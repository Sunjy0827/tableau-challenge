{
 "cells": [
  {
   "cell_type": "code",
   "execution_count": 1,
   "id": "2e32fc87-216b-43c3-85d7-62b2083bae8f",
   "metadata": {},
   "outputs": [],
   "source": [
    "# import dependencies\n",
    "import os\n",
    "import pandas as pd"
   ]
  },
  {
   "cell_type": "code",
   "execution_count": 2,
   "id": "830e459e-86bf-408d-bf9b-7b319d1bb88a",
   "metadata": {},
   "outputs": [],
   "source": [
    "# base folder path\n",
    "base_folder = 'Resources'"
   ]
  },
  {
   "cell_type": "code",
   "execution_count": 3,
   "id": "aa6cd37f-ea81-407a-ade2-1a22466c4de7",
   "metadata": {},
   "outputs": [],
   "source": [
    "# initialize an empty list to store DataFrames\n",
    "all_dataframes = []"
   ]
  },
  {
   "cell_type": "code",
   "execution_count": 4,
   "id": "f10e736d-aad4-4991-b576-b4376269c94d",
   "metadata": {},
   "outputs": [],
   "source": [
    "# folders\n",
    "folders = ['202407-citibike-tripdata', '202408-citibike-tripdata']"
   ]
  },
  {
   "cell_type": "code",
   "execution_count": 5,
   "id": "452afaaf-f077-498c-889f-ac23c6fd9f4f",
   "metadata": {},
   "outputs": [
    {
     "name": "stderr",
     "output_type": "stream",
     "text": [
      "C:\\Users\\sunjy\\AppData\\Local\\Temp\\ipykernel_26288\\3037293283.py:10: DtypeWarning: Columns (8) have mixed types. Specify dtype option on import or set low_memory=False.\n",
      "  df = pd.read_csv(file_path, low_memory=True)\n",
      "C:\\Users\\sunjy\\AppData\\Local\\Temp\\ipykernel_26288\\3037293283.py:10: DtypeWarning: Columns (8) have mixed types. Specify dtype option on import or set low_memory=False.\n",
      "  df = pd.read_csv(file_path, low_memory=True)\n",
      "C:\\Users\\sunjy\\AppData\\Local\\Temp\\ipykernel_26288\\3037293283.py:10: DtypeWarning: Columns (8) have mixed types. Specify dtype option on import or set low_memory=False.\n",
      "  df = pd.read_csv(file_path, low_memory=True)\n",
      "C:\\Users\\sunjy\\AppData\\Local\\Temp\\ipykernel_26288\\3037293283.py:10: DtypeWarning: Columns (8) have mixed types. Specify dtype option on import or set low_memory=False.\n",
      "  df = pd.read_csv(file_path, low_memory=True)\n",
      "C:\\Users\\sunjy\\AppData\\Local\\Temp\\ipykernel_26288\\3037293283.py:10: DtypeWarning: Columns (6,8) have mixed types. Specify dtype option on import or set low_memory=False.\n",
      "  df = pd.read_csv(file_path, low_memory=True)\n",
      "C:\\Users\\sunjy\\AppData\\Local\\Temp\\ipykernel_26288\\3037293283.py:10: DtypeWarning: Columns (6,8) have mixed types. Specify dtype option on import or set low_memory=False.\n",
      "  df = pd.read_csv(file_path, low_memory=True)\n",
      "C:\\Users\\sunjy\\AppData\\Local\\Temp\\ipykernel_26288\\3037293283.py:10: DtypeWarning: Columns (6,8) have mixed types. Specify dtype option on import or set low_memory=False.\n",
      "  df = pd.read_csv(file_path, low_memory=True)\n",
      "C:\\Users\\sunjy\\AppData\\Local\\Temp\\ipykernel_26288\\3037293283.py:10: DtypeWarning: Columns (6,8) have mixed types. Specify dtype option on import or set low_memory=False.\n",
      "  df = pd.read_csv(file_path, low_memory=True)\n",
      "C:\\Users\\sunjy\\AppData\\Local\\Temp\\ipykernel_26288\\3037293283.py:10: DtypeWarning: Columns (6,8) have mixed types. Specify dtype option on import or set low_memory=False.\n",
      "  df = pd.read_csv(file_path, low_memory=True)\n",
      "C:\\Users\\sunjy\\AppData\\Local\\Temp\\ipykernel_26288\\3037293283.py:10: DtypeWarning: Columns (6,8) have mixed types. Specify dtype option on import or set low_memory=False.\n",
      "  df = pd.read_csv(file_path, low_memory=True)\n"
     ]
    }
   ],
   "source": [
    "# Walk through the folder structure\n",
    "for folder in folders:\n",
    "    folder_path = os.path.join(base_folder, folder)\n",
    "    try:\n",
    "        for file in os.listdir(folder_path):\n",
    "            # find all csv files in the folder\n",
    "            if file.endswith('.csv'):\n",
    "                file_path = os.path.join(folder_path, file)\n",
    "                #Read the CSV file into a DataFrame\n",
    "                df = pd.read_csv(file_path, low_memory=True)\n",
    "                all_dataframes.append(df)\n",
    "    except Exception as e:\n",
    "        print(f\"Error processing {folder}: {e}\")"
   ]
  },
  {
   "cell_type": "code",
   "execution_count": 6,
   "id": "97bc7f02-2113-4905-9659-95096ea7b2aa",
   "metadata": {},
   "outputs": [],
   "source": [
    "# Combine all DataFrames into one\n",
    "combined_data = pd.concat(all_dataframes, ignore_index=True)"
   ]
  },
  {
   "cell_type": "code",
   "execution_count": 7,
   "id": "d13b4b9a-5c58-4c3f-9d9c-5e16af9e0640",
   "metadata": {},
   "outputs": [],
   "source": [
    "# Optionally save the combined DataFrame to a new CSV file\n",
    "combined_data.to_csv('combined_citibike_data.csv', index=False)"
   ]
  },
  {
   "cell_type": "code",
   "execution_count": null,
   "id": "68fa0e40-74c4-48a7-9d19-d319ced91d09",
   "metadata": {},
   "outputs": [],
   "source": []
  }
 ],
 "metadata": {
  "kernelspec": {
   "display_name": "Python 3 (ipykernel)",
   "language": "python",
   "name": "python3"
  },
  "language_info": {
   "codemirror_mode": {
    "name": "ipython",
    "version": 3
   },
   "file_extension": ".py",
   "mimetype": "text/x-python",
   "name": "python",
   "nbconvert_exporter": "python",
   "pygments_lexer": "ipython3",
   "version": "3.12.4"
  }
 },
 "nbformat": 4,
 "nbformat_minor": 5
}
